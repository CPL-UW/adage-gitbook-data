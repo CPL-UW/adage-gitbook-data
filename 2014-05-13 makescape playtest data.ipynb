{
 "metadata": {
  "name": "",
  "signature": "sha256:38b59ae8be7fd65d5cce5c6965931cdbf367bff5a149b4d7c4bb4dbc629f67cd"
 },
 "nbformat": 3,
 "nbformat_minor": 0,
 "worksheets": [
  {
   "cells": [
    {
     "cell_type": "markdown",
     "metadata": {},
     "source": [
      "# Preliminaries\n",
      "\n",
      "First, we'll load some required libraries and set some global options"
     ]
    },
    {
     "cell_type": "code",
     "collapsed": false,
     "input": [
      "import pandas as pd          # our core data analysis toolkit\n",
      "import numpy as np           \n",
      "import pylab as pl           # plotting libraries\n",
      "from ggplot import *\n",
      "from pandas import read_json # a function for reading data in JSON files\n",
      "\n",
      "# This option shows our plots directly in iPython Notebooks\n",
      "%matplotlib inline \n",
      "\n",
      "# This option gives a more pleasing visual style to our plots\n",
      "pd.set_option('display.mpl_style', 'default')\n",
      "\n",
      "# The location of our playtest data file\n",
      "filepath = \"2014-05-13 makescape playtest.json\""
     ],
     "language": "python",
     "metadata": {},
     "outputs": [],
     "prompt_number": 1
    },
    {
     "cell_type": "markdown",
     "metadata": {},
     "source": [
      "# Data Analysis\n",
      "\n",
      "## Loading and Cleaning\n",
      "\n",
      "Below we'll load the data and sort by increasing timestamp."
     ]
    },
    {
     "cell_type": "code",
     "collapsed": false,
     "input": [
      "def loadDataSortedByTimestamp(filepath):\n",
      "    x = read_json(filepath)\n",
      "    x = x.sort(columns='timestamp')\n",
      "    x.index = range(0, len(x))\n",
      "    return(x)\n",
      "\n",
      "ms = loadDataSortedByTimestamp(filepath)"
     ],
     "language": "python",
     "metadata": {},
     "outputs": [],
     "prompt_number": 2
    },
    {
     "cell_type": "markdown",
     "metadata": {},
     "source": [
      "Now that our data is loaded with the variable `ms` (I chose it as an abbreviation of MakeScape), let's look at it and make sure it's sane. One of the first things I'll do is check the list of columns that our data comes with."
     ]
    },
    {
     "cell_type": "code",
     "collapsed": false,
     "input": [
      "ms.columns"
     ],
     "language": "python",
     "metadata": {},
     "outputs": [
      {
       "metadata": {},
       "output_type": "pyout",
       "prompt_number": 3,
       "text": [
        "Index([u'_id', u'ada_base_types', u'adage_version', u'application_name', u'application_version', u'board_mode', u'component_list', u'created_at', u'deviceInfo', u'fish', u'fish_list', u'game', u'game_id', u'key', u'mode_name', u'num_batteries', u'num_leds', u'num_resistors', u'num_timers', u'player_name', u'player_names', u'playspace_id', u'playspace_ids', u'reason', u'resistance', u'session_token', u'timed_out', u'timestamp', u'updated_at', u'user_id', u'virtual_context', u'visability_mode', u'voltage'], dtype='object')"
       ]
      }
     ],
     "prompt_number": 3
    },
    {
     "cell_type": "markdown",
     "metadata": {},
     "source": [
      "Whoa! That is [alot of columns](http://hyperboleandahalf.blogspot.com/2010/04/alot-is-better-than-you-at-everything.html). 33 columns, to be exact. We can check that by calling Python's function for determining the length of a collection:"
     ]
    },
    {
     "cell_type": "code",
     "collapsed": false,
     "input": [
      "len(ms.columns)"
     ],
     "language": "python",
     "metadata": {},
     "outputs": [
      {
       "metadata": {},
       "output_type": "pyout",
       "prompt_number": 4,
       "text": [
        "33"
       ]
      }
     ],
     "prompt_number": 4
    },
    {
     "cell_type": "markdown",
     "metadata": {},
     "source": [
      "But we should also check how many rows (in this case, how many distinct events) we have in our dataset. "
     ]
    },
    {
     "cell_type": "code",
     "collapsed": false,
     "input": [
      "len(ms) # returns 8505"
     ],
     "language": "python",
     "metadata": {},
     "outputs": [
      {
       "metadata": {},
       "output_type": "pyout",
       "prompt_number": 5,
       "text": [
        "8505"
       ]
      }
     ],
     "prompt_number": 5
    },
    {
     "cell_type": "code",
     "collapsed": false,
     "input": [
      "columns = ['key', 'timestamp']\n",
      "ms.head(n=5)[columns]"
     ],
     "language": "python",
     "metadata": {},
     "outputs": [
      {
       "html": [
        "<div style=\"max-height:1000px;max-width:1500px;overflow:auto;\">\n",
        "<table border=\"1\" class=\"dataframe\">\n",
        "  <thead>\n",
        "    <tr style=\"text-align: right;\">\n",
        "      <th></th>\n",
        "      <th>key</th>\n",
        "      <th>timestamp</th>\n",
        "    </tr>\n",
        "  </thead>\n",
        "  <tbody>\n",
        "    <tr>\n",
        "      <th>0</th>\n",
        "      <td> ADAGEStartSession</td>\n",
        "      <td> 1398178271860</td>\n",
        "    </tr>\n",
        "    <tr>\n",
        "      <th>1</th>\n",
        "      <td> ADAGEStartSession</td>\n",
        "      <td> 1398190767768</td>\n",
        "    </tr>\n",
        "    <tr>\n",
        "      <th>2</th>\n",
        "      <td> ADAGEStartSession</td>\n",
        "      <td> 1398191616469</td>\n",
        "    </tr>\n",
        "    <tr>\n",
        "      <th>3</th>\n",
        "      <td> ADAGEStartSession</td>\n",
        "      <td> 1398192512628</td>\n",
        "    </tr>\n",
        "    <tr>\n",
        "      <th>4</th>\n",
        "      <td> ADAGEStartSession</td>\n",
        "      <td> 1398192887546</td>\n",
        "    </tr>\n",
        "  </tbody>\n",
        "</table>\n",
        "<p>5 rows \u00d7 2 columns</p>\n",
        "</div>"
       ],
       "metadata": {},
       "output_type": "pyout",
       "prompt_number": 6,
       "text": [
        "                 key      timestamp\n",
        "0  ADAGEStartSession  1398178271860\n",
        "1  ADAGEStartSession  1398190767768\n",
        "2  ADAGEStartSession  1398191616469\n",
        "3  ADAGEStartSession  1398192512628\n",
        "4  ADAGEStartSession  1398192887546\n",
        "\n",
        "[5 rows x 2 columns]"
       ]
      }
     ],
     "prompt_number": 6
    },
    {
     "cell_type": "markdown",
     "metadata": {},
     "source": [
      "What's less-than-helpful right now is that those timestamps are just raw integers. We want to make sure those integers actually represent times when data could reasonably have been collected (and not, say, January of the year 47532, which actually happened once).\n",
      "\n",
      "Thankfully, pandas comes with a function that can convert UNIX Epoch Time integers into human-recognizable dates. In this case, what we'll do is create a new column called `human-readable-timestamps` by applying the pandas `Timestamp()` function to our existing integers. Then we'll check the data."
     ]
    },
    {
     "cell_type": "code",
     "collapsed": false,
     "input": [
      "ms['human-readable-timestamp'] = ms.timestamp.apply(lambda x: pd.Timestamp(x, unit='ms'))\n",
      "columns = ['key', 'timestamp', 'human-readable-timestamp']\n",
      "ms[columns].head()"
     ],
     "language": "python",
     "metadata": {},
     "outputs": [
      {
       "html": [
        "<div style=\"max-height:1000px;max-width:1500px;overflow:auto;\">\n",
        "<table border=\"1\" class=\"dataframe\">\n",
        "  <thead>\n",
        "    <tr style=\"text-align: right;\">\n",
        "      <th></th>\n",
        "      <th>key</th>\n",
        "      <th>timestamp</th>\n",
        "      <th>human-readable-timestamp</th>\n",
        "    </tr>\n",
        "  </thead>\n",
        "  <tbody>\n",
        "    <tr>\n",
        "      <th>0</th>\n",
        "      <td> ADAGEStartSession</td>\n",
        "      <td> 1398178271860</td>\n",
        "      <td>2014-04-22 14:51:11.860000</td>\n",
        "    </tr>\n",
        "    <tr>\n",
        "      <th>1</th>\n",
        "      <td> ADAGEStartSession</td>\n",
        "      <td> 1398190767768</td>\n",
        "      <td>2014-04-22 18:19:27.768000</td>\n",
        "    </tr>\n",
        "    <tr>\n",
        "      <th>2</th>\n",
        "      <td> ADAGEStartSession</td>\n",
        "      <td> 1398191616469</td>\n",
        "      <td>2014-04-22 18:33:36.469000</td>\n",
        "    </tr>\n",
        "    <tr>\n",
        "      <th>3</th>\n",
        "      <td> ADAGEStartSession</td>\n",
        "      <td> 1398192512628</td>\n",
        "      <td>2014-04-22 18:48:32.628000</td>\n",
        "    </tr>\n",
        "    <tr>\n",
        "      <th>4</th>\n",
        "      <td> ADAGEStartSession</td>\n",
        "      <td> 1398192887546</td>\n",
        "      <td>2014-04-22 18:54:47.546000</td>\n",
        "    </tr>\n",
        "  </tbody>\n",
        "</table>\n",
        "<p>5 rows \u00d7 3 columns</p>\n",
        "</div>"
       ],
       "metadata": {},
       "output_type": "pyout",
       "prompt_number": 7,
       "text": [
        "                 key      timestamp   human-readable-timestamp\n",
        "0  ADAGEStartSession  1398178271860 2014-04-22 14:51:11.860000\n",
        "1  ADAGEStartSession  1398190767768 2014-04-22 18:19:27.768000\n",
        "2  ADAGEStartSession  1398191616469 2014-04-22 18:33:36.469000\n",
        "3  ADAGEStartSession  1398192512628 2014-04-22 18:48:32.628000\n",
        "4  ADAGEStartSession  1398192887546 2014-04-22 18:54:47.546000\n",
        "\n",
        "[5 rows x 3 columns]"
       ]
      }
     ],
     "prompt_number": 7
    },
    {
     "cell_type": "markdown",
     "metadata": {},
     "source": [
      "# Visualizing Events Over Time\n",
      "\n",
      "So, it seems like we have way too many `MakeConnectComponent` events. Earlier, I explained that we're *averaging* more than one `MakeConnectComponent` event per second. But what if we wanted to think about whether that average really describes a typical time slice of our data? In other words, we might want to know how our `MakeConnectcomponent` events are distributed over time.\n",
      "\n",
      "One way to think about that distribution is to ask: *when do our `MakeConnectComponent` events occur over time?* Below, I'm going to use the `ggplot` package to look at the cumulative distribution of the connection events. The syntax may seem wonky and complicated at first, but it's actually an elegant implementation of [ggplot2](http://docs.ggplot2.org/0.9.3.1/index.html), itself an implementation of Leland Wilkinson's [Grammar of Graphics](http://www.amazon.com/Grammar-Graphics-Statistics-Computing-ebook/dp/B003XQF3TQ/ref=sr_1_1?ie=UTF8&qid=1401707640&sr=8-1&keywords=grammar+of+graphics). If at first you're stymied by it, don't worry. I'll try to help break it down for you.\n",
      "\n",
      "First, we're doing some basic manipulation to get a cumulative sum column. This is actually so dumb I'm almost embarrased. I create a column by applying a [lambda function](http://www.diveintopython.net/power_of_introspection/lambda_functions.html) to the `timestamp` column that *always* returns 1, then I just sum cumulatively over that column. Lastly, I apply another [lambda function](http://www.diveintopython.net/power_of_introspection/lambda_functions.html) to format our timestamp (currently an integer) into a nicer-formatted timestamp.\n",
      "\n",
      "I'll break these plotting lines down one major line at a time:\n",
      "\n",
      "1. I create a `ggplot` object, which is essentially the basic kind of object from whence all plots are constructed in ggplot. `aes()` just stands for *aes*thetic mapping, where I'm telling ggplot how to map data to graphical features. In this case, I'm saying \"map the values in the `timestamp1` column to the x position of this plot, and map the values of `cumulativeCount` to the y position. It may seem trivial now, but the power of aesthetic mappings like this is that I can also map quantities (or categories) to other graphical properties, for example mapping other columns in my dataframe to the aesthetic properties of color or shape. For now, we'll just stick with mapping quantities to cartesian x and y coordinates. When creating the `ggplot` object, I also tell it what dataframe I'm talking about, so the local names of `timestamp1` and `cumulativeCount` make sense in scope.\n",
      "2. What we see now is a common pattern in ggplot-style programming. I can literally *add* a layer to my plot using the plus operator. Here, I'm telling ggplot that I want it to apply my chosen aesthetic mappings using a line geometry, which means it will connect each discrete datapoint with a line. (An alternative geometry would have been a simple *point* geometry, `geom_point()`, which would give us a bivariate scatterplot instead of a lineplot.\n",
      "3. The remaining lines add special options to my plot using the same compositional syntax of the plus operator. Here, I'm using special functions `ggtitle()`, `xlab()`, and `ylab()` to set the text for the plot title and axis labels.\n",
      "4. Next I just use a simple `print()` call to make sure my plot shows up in my interactive session.\n",
      "5. Finally, I use a convenience function called `ggsave()` to save my plot directly to a file. `ggsave()` is smart and it detects the desired type of output file based on the suffix you pass in as a filename. In this case I'm using the .PNG format for images, but if I wanted an infinitely scalable image I could have used a .PDF extension. "
     ]
    },
    {
     "cell_type": "code",
     "collapsed": true,
     "input": [
      "# Manipulating the data to get a cumulative sum\n",
      "# and nicely formatted timestamps\n",
      "connectionEvents = ms[ms.key == 'MakeConnectComponent']\n",
      "connectionEvents['cumulativeCount'] = connectionEvents.timestamp.apply(lambda x: 1).cumsum()\n",
      "connectionEvents['timestamp1'] = connectionEvents.timestamp.apply(lambda x: pd.Timestamp(x, unit='ms')) \n",
      "\n",
      "# Creating the basic plot\n",
      "p = ggplot(aes(x='timestamp1',\n",
      "               y='cumulativeCount'),\n",
      "           data=connectionEvents)\n",
      "p = p + geom_line()\n",
      "p = p + ggtitle('Cumulative Distribution of MakeConnectComponent Events')\n",
      "p = p + xlab('Time')\n",
      "p = p + ylab('Event Count')\n",
      "\n",
      "# Showing the plot\n",
      "print(p)\n",
      "\n",
      "# Saving the plot\n",
      "ggsave(plot=p,\n",
      "       filename='cumulativeDistributionOfMakeConnectComponent1.png')"
     ],
     "language": "python",
     "metadata": {},
     "outputs": [
      {
       "metadata": {},
       "output_type": "display_data",
       "png": "[encoded data removed]",
       "text": [
        "<matplotlib.figure.Figure at 0x1038bd310>"
       ]
      },
      {
       "output_type": "stream",
       "stream": "stdout",
       "text": [
        "<ggplot: (295352553)>\n"
       ]
      },
      {
       "output_type": "stream",
       "stream": "stderr",
       "text": [
        "Saving 11.0 x 8.0 in image.\n"
       ]
      }
     ],
     "prompt_number": 8
    },
    {
     "cell_type": "markdown",
     "metadata": {},
     "source": [
      "This plot has a number of interesting features. Easily the most salient feature is the giant flat-line in the center. It looks like there were effectively no `MakeConnectComponent` events between between 2000 hrs on the first day and 1400 hrs on the second day. And that seems entirely reasonable: the game likely would have been shut off during the night, then fired up again for testing the next day. \n",
      "\n",
      "The challenge is that on either side of the flatline the curves are quite steep. That means there could be a fair amount of information hiding in the areas of the plot where there was activity, but it's up to us to extract out that long, boring middle portion where nothing is happening. How can we do that?\n",
      "\n",
      "Well, suppose what we wanted was to create two new plots, call them Day 1 and Day 2, that have just the interesting parts: the parts where the slope of the cumulative distribution is nonzero. (Note that when the slope is nonzero, that's when action is happening and we're registering events over time.) If we wanted two separate plots, all we have to is figure out when, exactly, that boring stretch of time starts and when, exactly, it ends. And, one way to do that would be if we could somehow generate the time that elapses between each successive event in our dataset. So let's do that.\n",
      "\n",
      "### Time Deltas\n",
      "\n",
      "We're going to compute the time difference between successive events, which I'm calling *time deltas*. It's worth taking a second to think about how the delta is defined:\n",
      "\n",
      "For the $i$th event, the $\\Delta$ value is given by the simple equation below, where $t_i$ is the timestamp of the $i$th event:\n",
      "\n",
      "$\\Delta = t_i - t_{i-1}$\n",
      "\n",
      "As a result, the very first event $(i = 0)$ in a series will have a diff value of `NaN` or `NaT` (Not a Time), because the -1st event is undefined. But the second event will have a diff value of (Time of Second event - Time of First event). The very last event will also have a value: (Time of Last event - Time of Penultimate event).\n",
      "\n",
      "The handy thing about pandas is that every data series (and a column counts as data series) has a `diff()` method, which does exactly what we want: it computes successive pairwise differences between events. If we apply the `.diff()` function to our timestamps, we'll have exactly what we want: a column of numbers where each number represents the time elapsed since the event that came before."
     ]
    },
    {
     "cell_type": "code",
     "collapsed": false,
     "input": [
      "connectionEvents['delta1'] = connectionEvents.timestamp1.diff()"
     ],
     "language": "python",
     "metadata": {},
     "outputs": [],
     "prompt_number": 9
    },
    {
     "cell_type": "markdown",
     "metadata": {},
     "source": [
      "And, now that we have our column of deltas, how can we figure out where the big boring part starts? Well, the big boring part lasts a long time: multiple hours. So, what we're looking for is a huge time delta. Say a delta of more than five hours."
     ]
    },
    {
     "cell_type": "code",
     "collapsed": false,
     "input": [
      "connectionEvents[connectionEvents.delta1 > np.timedelta64(5, 'h')]['timestamp']"
     ],
     "language": "python",
     "metadata": {},
     "outputs": [
      {
       "metadata": {},
       "output_type": "pyout",
       "prompt_number": 10,
       "text": [
        "4443    1400077592798\n",
        "Name: timestamp, dtype: int64"
       ]
      }
     ],
     "prompt_number": 10
    },
    {
     "cell_type": "code",
     "collapsed": false,
     "input": [
      "whenBoringPartEnds = 1400077592798 \n",
      "day1 = connectionEvents[connectionEvents.timestamp < whenBoringPartEnds]\n",
      "day2 = connectionEvents[connectionEvents.timestamp >= whenBoringPartEnds]\n",
      "\n",
      "# Creating the day1 plot\n",
      "p = ggplot(aes(x='timestamp1',\n",
      "               y='cumulativeCount'),\n",
      "           data=day1)\n",
      "p = p + geom_line()\n",
      "p = p + ggtitle('Cumulative Distribution of MakeConnectComponent Events\\nDay1')\n",
      "p = p + xlab('Time')\n",
      "p = p + ylab('Event Count')\n",
      "\n",
      "# Showing the plot\n",
      "print(p)\n",
      "\n",
      "# Saving the plot\n",
      "ggsave(plot=p,\n",
      "       filename='cumulativeDistributionDay1.png')\n",
      "\n",
      "# Creating the day2 plot\n",
      "p = ggplot(aes(x='timestamp1',\n",
      "               y='cumulativeCount'),\n",
      "           data=day2)\n",
      "p = p + geom_line()\n",
      "p = p + ggtitle('Cumulative Distribution of MakeConnectComponent Events\\nDay2')\n",
      "p = p + xlab('Time')\n",
      "p = p + ylab('Event Count')\n",
      "\n",
      "# Showing the plot\n",
      "print(p)\n",
      "\n",
      "# Saving the plot\n",
      "ggsave(plot=p,\n",
      "       filename='cumulativeDistributionDay2.png')\n"
     ],
     "language": "python",
     "metadata": {},
     "outputs": [
      {
       "metadata": {},
       "output_type": "display_data",
       "png": "[encoded data removed]",
       "text": [
        "<matplotlib.figure.Figure at 0x11a0e4ad0>"
       ]
      },
      {
       "output_type": "stream",
       "stream": "stdout",
       "text": [
        "<ggplot: (283063801)>\n"
       ]
      },
      {
       "output_type": "stream",
       "stream": "stderr",
       "text": [
        "Saving 11.0 x 8.0 in image.\n"
       ]
      },
      {
       "metadata": {},
       "output_type": "display_data",
       "png": "[encoded data removed]",
       "text": [
        "<matplotlib.figure.Figure at 0x10cf41b90>"
       ]
      },
      {
       "output_type": "stream",
       "stream": "stdout",
       "text": [
        "<ggplot: (295742165)>\n"
       ]
      },
      {
       "output_type": "stream",
       "stream": "stderr",
       "text": [
        "Saving 11.0 x 8.0 in image.\n"
       ]
      }
     ],
     "prompt_number": 11
    },
    {
     "cell_type": "markdown",
     "metadata": {},
     "source": [
      "### Higher Order Deltas\n",
      "\n",
      "We can also compute second- and third-order deltas to explore the successive rates at which time deltas are changing: \n",
      "\n",
      "$\\Delta_2 = \\Delta_{1_{n}} - \\Delta_{1_{n-1}}$\n",
      "\n",
      "$\\Delta_3 = \\Delta_{2_{n}} - \\Delta_{2_{n-1}}$"
     ]
    },
    {
     "cell_type": "markdown",
     "metadata": {},
     "source": [
      "## Looking for zeroes\n",
      "\n",
      "For each subsequent event where the timestamp is the same, we get a zero delta. So, if four successive events all share the same timestamp, they culminate in a fourth event whose `delta3` is zero.\n",
      "\n",
      "Let's do a little inspection and find events whose third and fourth order deltas are zero. We'll use the pandas method `diff()`, which takes an array of data and computes the difference between contiguous pairwise elements.\n",
      "\n",
      "Our code below computes successive deltas (up to fourth-order), and assigns each array of deltas to its own column in the dataframe."
     ]
    },
    {
     "cell_type": "code",
     "collapsed": false,
     "input": [
      "ms['delta1'] = ms.timestamp.diff()\n",
      "ms['delta2'] = ms.delta1.diff()\n",
      "ms['delta3'] = ms.delta2.diff()\n",
      "ms['delta4'] = ms.delta3.diff()\n",
      "\n",
      "# A boolean expression to select events where deltas 1\u20133 are all zero\n",
      "thirdOrderZeroes = (ms.delta3 == 0) & (ms.delta2 == 0) & (ms.delta1 == 0) \n",
      "\n",
      "# The columns we'll want to view\n",
      "columns = ['key', 'timestamp', 'delta1', 'delta2', 'delta3', 'delta4']\n",
      "\n",
      "ms[thirdOrderZeroes][columns]"
     ],
     "language": "python",
     "metadata": {},
     "outputs": [
      {
       "html": [
        "<div style=\"max-height:1000px;max-width:1500px;overflow:auto;\">\n",
        "<table border=\"1\" class=\"dataframe\">\n",
        "  <thead>\n",
        "    <tr style=\"text-align: right;\">\n",
        "      <th></th>\n",
        "      <th>key</th>\n",
        "      <th>timestamp</th>\n",
        "      <th>delta1</th>\n",
        "      <th>delta2</th>\n",
        "      <th>delta3</th>\n",
        "      <th>delta4</th>\n",
        "    </tr>\n",
        "  </thead>\n",
        "  <tbody>\n",
        "    <tr>\n",
        "      <th>2482</th>\n",
        "      <td> MakeDisconnectComponent</td>\n",
        "      <td> 1400006485499</td>\n",
        "      <td> 0</td>\n",
        "      <td> 0</td>\n",
        "      <td> 0</td>\n",
        "      <td>-2102</td>\n",
        "    </tr>\n",
        "    <tr>\n",
        "      <th>2506</th>\n",
        "      <td> MakeDisconnectComponent</td>\n",
        "      <td> 1400006510313</td>\n",
        "      <td> 0</td>\n",
        "      <td> 0</td>\n",
        "      <td> 0</td>\n",
        "      <td>-1886</td>\n",
        "    </tr>\n",
        "    <tr>\n",
        "      <th>2526</th>\n",
        "      <td> MakeDisconnectComponent</td>\n",
        "      <td> 1400006521978</td>\n",
        "      <td> 0</td>\n",
        "      <td> 0</td>\n",
        "      <td> 0</td>\n",
        "      <td>-3534</td>\n",
        "    </tr>\n",
        "    <tr>\n",
        "      <th>2572</th>\n",
        "      <td> MakeDisconnectComponent</td>\n",
        "      <td> 1400006562692</td>\n",
        "      <td> 0</td>\n",
        "      <td> 0</td>\n",
        "      <td> 0</td>\n",
        "      <td>-4151</td>\n",
        "    </tr>\n",
        "    <tr>\n",
        "      <th>2623</th>\n",
        "      <td> MakeDisconnectComponent</td>\n",
        "      <td> 1400006622320</td>\n",
        "      <td> 0</td>\n",
        "      <td> 0</td>\n",
        "      <td> 0</td>\n",
        "      <td>   -1</td>\n",
        "    </tr>\n",
        "    <tr>\n",
        "      <th>2646</th>\n",
        "      <td> MakeDisconnectComponent</td>\n",
        "      <td> 1400006634386</td>\n",
        "      <td> 0</td>\n",
        "      <td> 0</td>\n",
        "      <td> 0</td>\n",
        "      <td> -685</td>\n",
        "    </tr>\n",
        "    <tr>\n",
        "      <th>2647</th>\n",
        "      <td> MakeDisconnectComponent</td>\n",
        "      <td> 1400006634386</td>\n",
        "      <td> 0</td>\n",
        "      <td> 0</td>\n",
        "      <td> 0</td>\n",
        "      <td>    0</td>\n",
        "    </tr>\n",
        "    <tr>\n",
        "      <th>2672</th>\n",
        "      <td> MakeDisconnectComponent</td>\n",
        "      <td> 1400006645003</td>\n",
        "      <td> 0</td>\n",
        "      <td> 0</td>\n",
        "      <td> 0</td>\n",
        "      <td>   -1</td>\n",
        "    </tr>\n",
        "    <tr>\n",
        "      <th>2958</th>\n",
        "      <td> MakeDisconnectComponent</td>\n",
        "      <td> 1400006866421</td>\n",
        "      <td> 0</td>\n",
        "      <td> 0</td>\n",
        "      <td> 0</td>\n",
        "      <td>-2335</td>\n",
        "    </tr>\n",
        "    <tr>\n",
        "      <th>3018</th>\n",
        "      <td> MakeDisconnectComponent</td>\n",
        "      <td> 1400006896668</td>\n",
        "      <td> 0</td>\n",
        "      <td> 0</td>\n",
        "      <td> 0</td>\n",
        "      <td>-2534</td>\n",
        "    </tr>\n",
        "    <tr>\n",
        "      <th>3200</th>\n",
        "      <td> MakeDisconnectComponent</td>\n",
        "      <td> 1400006993361</td>\n",
        "      <td> 0</td>\n",
        "      <td> 0</td>\n",
        "      <td> 0</td>\n",
        "      <td>-1301</td>\n",
        "    </tr>\n",
        "    <tr>\n",
        "      <th>3351</th>\n",
        "      <td> MakeDisconnectComponent</td>\n",
        "      <td> 1400007068806</td>\n",
        "      <td> 0</td>\n",
        "      <td> 0</td>\n",
        "      <td> 0</td>\n",
        "      <td> -850</td>\n",
        "    </tr>\n",
        "    <tr>\n",
        "      <th>3480</th>\n",
        "      <td> MakeDisconnectComponent</td>\n",
        "      <td> 1400007157316</td>\n",
        "      <td> 0</td>\n",
        "      <td> 0</td>\n",
        "      <td> 0</td>\n",
        "      <td> -781</td>\n",
        "    </tr>\n",
        "    <tr>\n",
        "      <th>3512</th>\n",
        "      <td> MakeDisconnectComponent</td>\n",
        "      <td> 1400007196213</td>\n",
        "      <td> 0</td>\n",
        "      <td> 0</td>\n",
        "      <td> 0</td>\n",
        "      <td>-1518</td>\n",
        "    </tr>\n",
        "    <tr>\n",
        "      <th>3570</th>\n",
        "      <td>         MakeCaptureFish</td>\n",
        "      <td> 1400007234810</td>\n",
        "      <td> 0</td>\n",
        "      <td> 0</td>\n",
        "      <td> 0</td>\n",
        "      <td>  -51</td>\n",
        "    </tr>\n",
        "    <tr>\n",
        "      <th>3667</th>\n",
        "      <td> MakeDisconnectComponent</td>\n",
        "      <td> 1400007308155</td>\n",
        "      <td> 0</td>\n",
        "      <td> 0</td>\n",
        "      <td> 0</td>\n",
        "      <td>-3251</td>\n",
        "    </tr>\n",
        "    <tr>\n",
        "      <th>3785</th>\n",
        "      <td>            MakeSnapshot</td>\n",
        "      <td> 1400007410096</td>\n",
        "      <td> 0</td>\n",
        "      <td> 0</td>\n",
        "      <td> 0</td>\n",
        "      <td>-1783</td>\n",
        "    </tr>\n",
        "    <tr>\n",
        "      <th>4199</th>\n",
        "      <td> MakeDisconnectComponent</td>\n",
        "      <td> 1400007951843</td>\n",
        "      <td> 0</td>\n",
        "      <td> 0</td>\n",
        "      <td> 0</td>\n",
        "      <td> -768</td>\n",
        "    </tr>\n",
        "    <tr>\n",
        "      <th>7955</th>\n",
        "      <td>      MakeCircuitCreated</td>\n",
        "      <td> 1400083772689</td>\n",
        "      <td> 0</td>\n",
        "      <td> 0</td>\n",
        "      <td> 0</td>\n",
        "      <td>-1300</td>\n",
        "    </tr>\n",
        "    <tr>\n",
        "      <th>8022</th>\n",
        "      <td> MakeDisconnectComponent</td>\n",
        "      <td> 1400083848640</td>\n",
        "      <td> 0</td>\n",
        "      <td> 0</td>\n",
        "      <td> 0</td>\n",
        "      <td> -785</td>\n",
        "    </tr>\n",
        "    <tr>\n",
        "      <th>8088</th>\n",
        "      <td>         MakeCaptureFish</td>\n",
        "      <td> 1400083893390</td>\n",
        "      <td> 0</td>\n",
        "      <td> 0</td>\n",
        "      <td> 0</td>\n",
        "      <td> -152</td>\n",
        "    </tr>\n",
        "    <tr>\n",
        "      <th>8123</th>\n",
        "      <td>         MakeCaptureFish</td>\n",
        "      <td> 1400083924105</td>\n",
        "      <td> 0</td>\n",
        "      <td> 0</td>\n",
        "      <td> 0</td>\n",
        "      <td>-1085</td>\n",
        "    </tr>\n",
        "  </tbody>\n",
        "</table>\n",
        "<p>22 rows \u00d7 6 columns</p>\n",
        "</div>"
       ],
       "metadata": {},
       "output_type": "pyout",
       "prompt_number": 12,
       "text": [
        "                          key      timestamp  delta1  delta2  delta3  delta4\n",
        "2482  MakeDisconnectComponent  1400006485499       0       0       0   -2102\n",
        "2506  MakeDisconnectComponent  1400006510313       0       0       0   -1886\n",
        "2526  MakeDisconnectComponent  1400006521978       0       0       0   -3534\n",
        "2572  MakeDisconnectComponent  1400006562692       0       0       0   -4151\n",
        "2623  MakeDisconnectComponent  1400006622320       0       0       0      -1\n",
        "2646  MakeDisconnectComponent  1400006634386       0       0       0    -685\n",
        "2647  MakeDisconnectComponent  1400006634386       0       0       0       0\n",
        "2672  MakeDisconnectComponent  1400006645003       0       0       0      -1\n",
        "2958  MakeDisconnectComponent  1400006866421       0       0       0   -2335\n",
        "3018  MakeDisconnectComponent  1400006896668       0       0       0   -2534\n",
        "3200  MakeDisconnectComponent  1400006993361       0       0       0   -1301\n",
        "3351  MakeDisconnectComponent  1400007068806       0       0       0    -850\n",
        "3480  MakeDisconnectComponent  1400007157316       0       0       0    -781\n",
        "3512  MakeDisconnectComponent  1400007196213       0       0       0   -1518\n",
        "3570          MakeCaptureFish  1400007234810       0       0       0     -51\n",
        "3667  MakeDisconnectComponent  1400007308155       0       0       0   -3251\n",
        "3785             MakeSnapshot  1400007410096       0       0       0   -1783\n",
        "4199  MakeDisconnectComponent  1400007951843       0       0       0    -768\n",
        "7955       MakeCircuitCreated  1400083772689       0       0       0   -1300\n",
        "8022  MakeDisconnectComponent  1400083848640       0       0       0    -785\n",
        "8088          MakeCaptureFish  1400083893390       0       0       0    -152\n",
        "8123          MakeCaptureFish  1400083924105       0       0       0   -1085\n",
        "\n",
        "[22 rows x 6 columns]"
       ]
      }
     ],
     "prompt_number": 12
    },
    {
     "cell_type": "markdown",
     "metadata": {},
     "source": [
      "## Inspecting chains of subsequent events\n",
      "\n",
      "Event 2482 had a `delta3` of zero. Let's look in its neighborhood (namely the 15 events that bracket it) and see what the timestamps of the preceding/subsequent events were."
     ]
    },
    {
     "cell_type": "code",
     "collapsed": false,
     "input": [
      "ms[2470:2485][columns]"
     ],
     "language": "python",
     "metadata": {},
     "outputs": [
      {
       "html": [
        "<div style=\"max-height:1000px;max-width:1500px;overflow:auto;\">\n",
        "<table border=\"1\" class=\"dataframe\">\n",
        "  <thead>\n",
        "    <tr style=\"text-align: right;\">\n",
        "      <th></th>\n",
        "      <th>key</th>\n",
        "      <th>timestamp</th>\n",
        "      <th>delta1</th>\n",
        "      <th>delta2</th>\n",
        "      <th>delta3</th>\n",
        "      <th>delta4</th>\n",
        "    </tr>\n",
        "  </thead>\n",
        "  <tbody>\n",
        "    <tr>\n",
        "      <th>2470</th>\n",
        "      <td>    MakeConnectComponent</td>\n",
        "      <td> 1400006472299</td>\n",
        "      <td>    0</td>\n",
        "      <td> -401</td>\n",
        "      <td> -307</td>\n",
        "      <td> -490</td>\n",
        "    </tr>\n",
        "    <tr>\n",
        "      <th>2471</th>\n",
        "      <td>    MakeConnectComponent</td>\n",
        "      <td> 1400006472730</td>\n",
        "      <td>  431</td>\n",
        "      <td>  431</td>\n",
        "      <td>  832</td>\n",
        "      <td> 1139</td>\n",
        "    </tr>\n",
        "    <tr>\n",
        "      <th>2472</th>\n",
        "      <td>      MakeCircuitCreated</td>\n",
        "      <td> 1400006472730</td>\n",
        "      <td>    0</td>\n",
        "      <td> -431</td>\n",
        "      <td> -862</td>\n",
        "      <td>-1694</td>\n",
        "    </tr>\n",
        "    <tr>\n",
        "      <th>2473</th>\n",
        "      <td>    MakeConnectComponent</td>\n",
        "      <td> 1400006472730</td>\n",
        "      <td>    0</td>\n",
        "      <td>    0</td>\n",
        "      <td>  431</td>\n",
        "      <td> 1293</td>\n",
        "    </tr>\n",
        "    <tr>\n",
        "      <th>2474</th>\n",
        "      <td>            MakeSnapshot</td>\n",
        "      <td> 1400006473382</td>\n",
        "      <td>  652</td>\n",
        "      <td>  652</td>\n",
        "      <td>  652</td>\n",
        "      <td>  221</td>\n",
        "    </tr>\n",
        "    <tr>\n",
        "      <th>2475</th>\n",
        "      <td>           MakeSpawnFish</td>\n",
        "      <td> 1400006473483</td>\n",
        "      <td>  101</td>\n",
        "      <td> -551</td>\n",
        "      <td>-1203</td>\n",
        "      <td>-1855</td>\n",
        "    </tr>\n",
        "    <tr>\n",
        "      <th>2476</th>\n",
        "      <td>           MakeSpawnFish</td>\n",
        "      <td> 1400006473484</td>\n",
        "      <td>    1</td>\n",
        "      <td> -100</td>\n",
        "      <td>  451</td>\n",
        "      <td> 1654</td>\n",
        "    </tr>\n",
        "    <tr>\n",
        "      <th>2477</th>\n",
        "      <td>            MakeSnapshot</td>\n",
        "      <td> 1400006478397</td>\n",
        "      <td> 4913</td>\n",
        "      <td> 4912</td>\n",
        "      <td> 5012</td>\n",
        "      <td> 4561</td>\n",
        "    </tr>\n",
        "    <tr>\n",
        "      <th>2478</th>\n",
        "      <td>            MakeSnapshot</td>\n",
        "      <td> 1400006483397</td>\n",
        "      <td> 5000</td>\n",
        "      <td>   87</td>\n",
        "      <td>-4825</td>\n",
        "      <td>-9837</td>\n",
        "    </tr>\n",
        "    <tr>\n",
        "      <th>2479</th>\n",
        "      <td>         MakeCaptureFish</td>\n",
        "      <td> 1400006485499</td>\n",
        "      <td> 2102</td>\n",
        "      <td>-2898</td>\n",
        "      <td>-2985</td>\n",
        "      <td> 1840</td>\n",
        "    </tr>\n",
        "    <tr>\n",
        "      <th>2480</th>\n",
        "      <td> MakeDisconnectComponent</td>\n",
        "      <td> 1400006485499</td>\n",
        "      <td>    0</td>\n",
        "      <td>-2102</td>\n",
        "      <td>  796</td>\n",
        "      <td> 3781</td>\n",
        "    </tr>\n",
        "    <tr>\n",
        "      <th>2481</th>\n",
        "      <td> MakeDisconnectComponent</td>\n",
        "      <td> 1400006485499</td>\n",
        "      <td>    0</td>\n",
        "      <td>    0</td>\n",
        "      <td> 2102</td>\n",
        "      <td> 1306</td>\n",
        "    </tr>\n",
        "    <tr>\n",
        "      <th>2482</th>\n",
        "      <td> MakeDisconnectComponent</td>\n",
        "      <td> 1400006485499</td>\n",
        "      <td>    0</td>\n",
        "      <td>    0</td>\n",
        "      <td>    0</td>\n",
        "      <td>-2102</td>\n",
        "    </tr>\n",
        "    <tr>\n",
        "      <th>2483</th>\n",
        "      <td> MakeDisconnectComponent</td>\n",
        "      <td> 1400006485514</td>\n",
        "      <td>   15</td>\n",
        "      <td>   15</td>\n",
        "      <td>   15</td>\n",
        "      <td>   15</td>\n",
        "    </tr>\n",
        "    <tr>\n",
        "      <th>2484</th>\n",
        "      <td> MakeDisconnectComponent</td>\n",
        "      <td> 1400006485514</td>\n",
        "      <td>    0</td>\n",
        "      <td>  -15</td>\n",
        "      <td>  -30</td>\n",
        "      <td>  -45</td>\n",
        "    </tr>\n",
        "  </tbody>\n",
        "</table>\n",
        "<p>15 rows \u00d7 6 columns</p>\n",
        "</div>"
       ],
       "metadata": {},
       "output_type": "pyout",
       "prompt_number": 13,
       "text": [
        "                          key      timestamp  delta1  delta2  delta3  delta4\n",
        "2470     MakeConnectComponent  1400006472299       0    -401    -307    -490\n",
        "2471     MakeConnectComponent  1400006472730     431     431     832    1139\n",
        "2472       MakeCircuitCreated  1400006472730       0    -431    -862   -1694\n",
        "2473     MakeConnectComponent  1400006472730       0       0     431    1293\n",
        "2474             MakeSnapshot  1400006473382     652     652     652     221\n",
        "2475            MakeSpawnFish  1400006473483     101    -551   -1203   -1855\n",
        "2476            MakeSpawnFish  1400006473484       1    -100     451    1654\n",
        "2477             MakeSnapshot  1400006478397    4913    4912    5012    4561\n",
        "2478             MakeSnapshot  1400006483397    5000      87   -4825   -9837\n",
        "2479          MakeCaptureFish  1400006485499    2102   -2898   -2985    1840\n",
        "2480  MakeDisconnectComponent  1400006485499       0   -2102     796    3781\n",
        "2481  MakeDisconnectComponent  1400006485499       0       0    2102    1306\n",
        "2482  MakeDisconnectComponent  1400006485499       0       0       0   -2102\n",
        "2483  MakeDisconnectComponent  1400006485514      15      15      15      15\n",
        "2484  MakeDisconnectComponent  1400006485514       0     -15     -30     -45\n",
        "\n",
        "[15 rows x 6 columns]"
       ]
      }
     ],
     "prompt_number": 13
    },
    {
     "cell_type": "markdown",
     "metadata": {},
     "source": [
      "## `FishCapture` events are followed by `DisconnectComponent` events that *almost* all share the same timestamp\n",
      "\n",
      "It looks like event 2482 is part of a sequence: a fish was captured at 2479, and (because when a fish gets captured it blows out a circuit) a number of components got disconnected in events 2480-2484. \n",
      "\n",
      "*Note that not all the disconnect events share the same timestamp.*"
     ]
    },
    {
     "cell_type": "markdown",
     "metadata": {},
     "source": [
      "## Viewing a histogram of time deltas"
     ]
    },
    {
     "cell_type": "markdown",
     "metadata": {},
     "source": [
      "I mentioned in the last section that there's a huge problem with our data. Let's take a look again at the counts of different types of events, but this time we'll focus on the top five most frequent events:"
     ]
    },
    {
     "cell_type": "code",
     "collapsed": false,
     "input": [
      "topFiveMostFrequentEvents = ms.groupby('key').count().sort(columns=['timestamp'], ascending=False)[:5]\n",
      "topFiveMostFrequentEvents['timestamp']"
     ],
     "language": "python",
     "metadata": {},
     "outputs": [
      {
       "metadata": {},
       "output_type": "pyout",
       "prompt_number": 14,
       "text": [
        "key\n",
        "MakeConnectComponent       2609\n",
        "MakeSnapshot               2086\n",
        "MakeDisconnectComponent     943\n",
        "MakeAddComponent            891\n",
        "MakeRemoveComponent         840\n",
        "Name: timestamp, dtype: int64"
       ]
      }
     ],
     "prompt_number": 14
    },
    {
     "cell_type": "markdown",
     "metadata": {},
     "source": [
      "In our implementation of events, `MakeConnectComponent` should be triggered once the system detects that two circuit elements have become connected (say, when a player bumps a resistor and a battery together). `MakeDisconnectComponent` should be triggered once the system detects that two connected elements have become disconnected (say, when a player swipes a finger across a wire to cut it.)\n",
      "\n",
      "That leads to Problem 1\n",
      "\n",
      "### Problem 1 - There are more connect events than there are disconnect events\n",
      "\n",
      "And not just more, *way* more. Almost three times more. If you think about it, this doesn't make sense at all. \n",
      "\n",
      "In our game, each block has a lone positive terminal and a lone negative terminal. And, each terminal only accepts a maximum of one connection for simplicity. When players add blocks to the table, the blocks don't start as being not connected to anything. The first `MakeConnectComponent` event *should* happen when two free terminals from two different blocks get bumped together. And, if two terminals are connected, they can't get connected to other things without getting disconnected first. So, we should expect at least something close to parity: there should be about as many disconnect events as there are connect events. Otherwise, how can a bunch of connected terminals keep connecting to other things? (Again, remember that each terminal should accept a maximum of one connection.)\n",
      "\n",
      "So, that's pretty weird. And also possibly very bad. But, it gets even worse when you consider Problem 2.\n",
      "\n",
      "### Problem 2 - There are more connect events than there are snapshot events\n",
      "\n",
      "In our game, we built an event that takes a snapshot of the entire state of the board at regular intervals. We did that because we knew not all actions in the game should generate events. For example, if we recorded every single time any block changed its position, that would be *way* too much data. On the other hand, we need to know when players move blocks even if those movements don't generate big game events (like completing a circuit). So, we compromised. Every second, the game stores a snapshot of information about the state of the board, and that event is called `MakeSnapshot`.\n",
      "\n",
      "If you look at the table above (or the bar chart in our previous section), you'll notice that `MakeSnapshot` comes in second in our Top 5 Most Frequent Events. And, it's not a small margin, either. `MakeConnectComponent` is beating it by 25%. That is a Very Weird Thing.\n",
      "\n",
      "If we assume that the snapshots are reliably firing every second, that means that *On average, the system is registering block-to-block connections more than once per second.* If all that data were user-generated, that means that over a period of about 44 total minutes of gameplay, kids were connecting blocks at a rate of *more than one block per second, every second* for the entirety of the 44 minutes. \n",
      "\n",
      "To put that in perspective one more way: \n",
      "\n",
      "- if you played [The Lion Sleeps Tonight](https://www.youtube.com/watch?v=cU-eAzNp5Hw) by The Tokens \n",
      "- on repeat, \n",
      "- 20 consecutive times, \n",
      "- and you snapped your fingers to the beat (60bpm) the entire time\n",
      "- each snap would represent two circuit elements being connected\n",
      "\n",
      "Rather than assuming children are connecting circuit elements at a ludicrously high rate (Problem 2), which also would seem physically impossible (Problem 1), it seems more likely that there's a problem with the game's data logging that's revealed by our data. So, let's go to the next section and explore a method for checking it out."
     ]
    },
    {
     "cell_type": "code",
     "collapsed": false,
     "input": [
      "topFive = loadDataSortedByTimestamp(filepath)\n",
      "topFiveMostFrequentEvents = list(ms.groupby('key').count().sort(columns=['timestamp']).index)[-5:]\n",
      "frequencyFilter = topFive.key.apply(lambda x: x in topFiveMostFrequentEvents)\n",
      "topFive = topFive[frequencyFilter]\n",
      "topFive['delta1'] = topFive.timestamp.diff()\n",
      "binBreaks = [-1, 1, 50, 100, 200, 300, 500, 1000]\n",
      "# binBreaks = [1000, 2000, 3000, 4000, 5000]\n",
      "\n",
      "p = ggplot(aes(x='delta1',\n",
      "               fill='key'),\n",
      "           data=topFive) + \\\n",
      "        geom_histogram(breaks=binBreaks) + \\\n",
      "        scale_x_continuous(breaks=binBreaks) + \\\n",
      "        ggtitle('Distribution of Time Deltas Between Successive Events') + \\\n",
      "        ylab('Number of Events') + \\\n",
      "        xlab('Time Between Events (ms)')\n",
      "# print(p)\n",
      "# ggsave(p, \"histogram.png\")\n",
      "# topFive.head(n = 20)[['timestamp', 'delta1', 'key']]\n",
      "print(p)\n"
     ],
     "language": "python",
     "metadata": {},
     "outputs": [
      {
       "metadata": {},
       "output_type": "display_data",
       "png": "[encoded data removed]",
       "text": [
        "<matplotlib.figure.Figure at 0x119acd610>"
       ]
      },
      {
       "output_type": "stream",
       "stream": "stdout",
       "text": [
        "<ggplot: (302503801)>\n"
       ]
      }
     ],
     "prompt_number": 15
    },
    {
     "cell_type": "markdown",
     "metadata": {},
     "source": [
      "So, we know the *distribution* of `MakeConnectComponent` events is uneven. We know that because in the last section we plotted the cumulative distribution function and saw it had a widely variable slope. What I'd like to do now is get an idea of just what that distribution of elapsed event times looks like.\n",
      "\n",
      "To do that, we're going to use a visualization called a [kernel density estimate](http://en.wikipedia.org/wiki/Kernel_density_estimate). Essentially, what we're doing is creating a smoothed empirical approximation of what the distributions of events look like. \n",
      "\n",
      "We're also going to use another powerful feature of graphical analysis: what statistician [Bill Cleveland][http://cm.bell-labs.com/cm/ms/departments/sia/wsc/] and [Edward Tufte](http://www.amazon.com/The-Visual-Display-Quantitative-Information/dp/0961392142/ref=sr_1_1?ie=UTF8&qid=1401770677&sr=8-1&keywords=visual+display+of+quantitative+information) call \"[small multiples](http://www.juiceanalytics.com/writing/better-know-visualization-small-multiples).\" We're actually going to take a look at the distributions of time deltas for the top 5 most frequent kinds of events and graphically compare them. "
     ]
    },
    {
     "cell_type": "code",
     "collapsed": false,
     "input": [
      "topFive = loadDataSortedByTimestamp(filepath)\n",
      "topFiveMostFrequentEvents = list(ms.groupby('key').count().sort(columns=['timestamp']).index)[-5:]\n",
      "frequencyFilter = topFive.key.apply(lambda x: x in topFiveMostFrequentEvents)\n",
      "topFive['delta1'] = topFive.timestamp.diff()\n",
      "topFive = topFive[frequencyFilter]\n",
      "\n",
      "\n",
      "p = ggplot(aes(x = 'delta1', \n",
      "               group='key'), \n",
      "           data=topFive)\n",
      "p = p + geom_density() # a Kernel Density Estimate\n",
      "p = p + scale_x_continuous(limits=[-1000, 20000])\n",
      "p = p + facet_wrap(y='key', \n",
      "                   ncol=1, \n",
      "                   scales='fixed')\n",
      "p = p + xlab('Time Between Successive Events (ms)')\n",
      "p = p + ggtitle('Smoothed Kernel Density Estimates')\n",
      "\n",
      "print(p)\n",
      "ggsave(plot=p,\n",
      "       filename='kernelDensityEstimate.png')"
     ],
     "language": "python",
     "metadata": {},
     "outputs": [
      {
       "metadata": {},
       "output_type": "display_data",
       "png": "[encoded data removed]",
       "text": [
        "<matplotlib.figure.Figure at 0x1207d7e90>"
       ]
      },
      {
       "output_type": "stream",
       "stream": "stdout",
       "text": [
        "<ggplot: (302503917)>\n"
       ]
      },
      {
       "output_type": "stream",
       "stream": "stderr",
       "text": [
        "Saving 11.0 x 8.0 in image.\n"
       ]
      }
     ],
     "prompt_number": 16
    },
    {
     "cell_type": "code",
     "collapsed": false,
     "input": [],
     "language": "python",
     "metadata": {},
     "outputs": [],
     "prompt_number": 16
    },
    {
     "cell_type": "code",
     "collapsed": false,
     "input": [
      "connections = loadDataSortedByTimestamp(filepath)\n",
      "connections = connections[connections.key == 'MakeConnectComponent']\n",
      "connections['delta1'] = connections.timestamp.diff()\n",
      "\n",
      "binBreaks = [0, 50, 100, 200, 300, 400, 500, 600, 700, 800, 900, 1000]\n",
      "p = ggplot(aes(x='delta1',\n",
      "               fill='key'),\n",
      "           data=connections) + \\\n",
      "        geom_histogram(breaks=binBreaks) + \\\n",
      "        scale_x_continuous(breaks=binBreaks) + \\\n",
      "        ggtitle('Distribution of Time Deltas Between Successive Events') + \\\n",
      "        ylab('Number of Events') + \\\n",
      "        xlab('Time Between Events (ms)')\n",
      "print(p)\n",
      "ggsave(plot=p, \n",
      "       filename='histogram2.png')"
     ],
     "language": "python",
     "metadata": {},
     "outputs": [
      {
       "metadata": {},
       "output_type": "display_data",
       "png": "[encoded data removed]",
       "text": [
        "<matplotlib.figure.Figure at 0x11481ced0>"
       ]
      },
      {
       "output_type": "stream",
       "stream": "stdout",
       "text": [
        "<ggplot: (301594873)>\n"
       ]
      },
      {
       "output_type": "stream",
       "stream": "stderr",
       "text": [
        "Saving 11.0 x 8.0 in image.\n"
       ]
      }
     ],
     "prompt_number": 17
    },
    {
     "cell_type": "code",
     "collapsed": false,
     "input": [
      "topFive[topFive.key == 'MakeDisconnectComponent'][['key', 'delta1']].head()\n",
      "print(topFive[topFive.key == 'MakeDisconnectComponent']['delta1'].describe())\n",
      "topFive[topFive.key == 'MakeDisconnectComponent']['delta1'].plot(kind='kde')\n",
      "\n",
      "# print(p)\n",
      "# ggsave(p, \"histogram.png\")\n",
      "# topFive.head(n = 20)[['timestamp', 'delta1', 'key']]"
     ],
     "language": "python",
     "metadata": {},
     "outputs": [
      {
       "output_type": "stream",
       "stream": "stdout",
       "text": [
        "count     943.000000\n",
        "mean      516.357370\n",
        "std       981.573755\n",
        "min         0.000000\n",
        "25%         0.000000\n",
        "50%        16.000000\n",
        "75%       566.500000\n",
        "max      9866.000000\n",
        "Name: delta1, dtype: float64\n"
       ]
      },
      {
       "metadata": {},
       "output_type": "pyout",
       "prompt_number": 18,
       "text": [
        "<matplotlib.axes.AxesSubplot at 0x11a37f050>"
       ]
      },
      {
       "metadata": {},
       "output_type": "display_data",
       "png": "[encoded data removed]",
       "text": [
        "<matplotlib.figure.Figure at 0x125528a90>"
       ]
      }
     ],
     "prompt_number": 18
    },
    {
     "cell_type": "code",
     "collapsed": false,
     "input": [
      "connects = loadDataSortedByTimestamp(filepath)\n",
      "connects = connects[connects.key == 'MakeConnectComponent']\n",
      "connects['delta1'] = connects.timestamp.diff()\n",
      "p = ggplot(aes(x='delta1',\n",
      "               fill='key'),\n",
      "           data=connects) + \\\n",
      "        geom_histogram(breaks=binBreaks) + \\\n",
      "        scale_x_continuous(breaks=binBreaks) + \\\n",
      "        ggtitle('Distribution of Time Deltas Between Successive Events') + \\\n",
      "        ylab('Number of Events') + \\\n",
      "        xlab('Time Between Events (ms)')\n",
      "        \n",
      "print(p)"
     ],
     "language": "python",
     "metadata": {},
     "outputs": [
      {
       "metadata": {},
       "output_type": "display_data",
       "png": "[encoded data removed]",
       "text": [
        "<matplotlib.figure.Figure at 0x11ef77110>"
       ]
      },
      {
       "output_type": "stream",
       "stream": "stdout",
       "text": [
        "<ggplot: (299732397)>\n"
       ]
      }
     ],
     "prompt_number": 19
    },
    {
     "cell_type": "code",
     "collapsed": false,
     "input": [
      "len(connections[connections.delta1 <= 1000]) # 1744 events"
     ],
     "language": "python",
     "metadata": {},
     "outputs": [
      {
       "metadata": {},
       "output_type": "pyout",
       "prompt_number": 20,
       "text": [
        "1744"
       ]
      }
     ],
     "prompt_number": 20
    },
    {
     "cell_type": "code",
     "collapsed": false,
     "input": [
      "columns = ['timestamp', 'key']\n",
      "ms.groupby('key').count().sort(columns=['timestamp'], ascending=False)[columns]"
     ],
     "language": "python",
     "metadata": {},
     "outputs": [
      {
       "html": [
        "<div style=\"max-height:1000px;max-width:1500px;overflow:auto;\">\n",
        "<table border=\"1\" class=\"dataframe\">\n",
        "  <thead>\n",
        "    <tr style=\"text-align: right;\">\n",
        "      <th></th>\n",
        "      <th>timestamp</th>\n",
        "      <th>key</th>\n",
        "    </tr>\n",
        "    <tr>\n",
        "      <th>key</th>\n",
        "      <th></th>\n",
        "      <th></th>\n",
        "    </tr>\n",
        "  </thead>\n",
        "  <tbody>\n",
        "    <tr>\n",
        "      <th>MakeConnectComponent</th>\n",
        "      <td> 2609</td>\n",
        "      <td> 2609</td>\n",
        "    </tr>\n",
        "    <tr>\n",
        "      <th>MakeSnapshot</th>\n",
        "      <td> 2086</td>\n",
        "      <td> 2086</td>\n",
        "    </tr>\n",
        "    <tr>\n",
        "      <th>MakeDisconnectComponent</th>\n",
        "      <td>  943</td>\n",
        "      <td>  943</td>\n",
        "    </tr>\n",
        "    <tr>\n",
        "      <th>MakeAddComponent</th>\n",
        "      <td>  891</td>\n",
        "      <td>  891</td>\n",
        "    </tr>\n",
        "    <tr>\n",
        "      <th>MakeRemoveComponent</th>\n",
        "      <td>  840</td>\n",
        "      <td>  840</td>\n",
        "    </tr>\n",
        "    <tr>\n",
        "      <th>MakeCircuitCreated</th>\n",
        "      <td>  229</td>\n",
        "      <td>  229</td>\n",
        "    </tr>\n",
        "    <tr>\n",
        "      <th>MakeResetBoard</th>\n",
        "      <td>  211</td>\n",
        "      <td>  211</td>\n",
        "    </tr>\n",
        "    <tr>\n",
        "      <th>MakeSpawnFish</th>\n",
        "      <td>  161</td>\n",
        "      <td>  161</td>\n",
        "    </tr>\n",
        "    <tr>\n",
        "      <th>MakeCaptureFish</th>\n",
        "      <td>  136</td>\n",
        "      <td>  136</td>\n",
        "    </tr>\n",
        "    <tr>\n",
        "      <th>MakeEndGame</th>\n",
        "      <td>  100</td>\n",
        "      <td>  100</td>\n",
        "    </tr>\n",
        "    <tr>\n",
        "      <th>MakeSummonBoard</th>\n",
        "      <td>   96</td>\n",
        "      <td>   96</td>\n",
        "    </tr>\n",
        "    <tr>\n",
        "      <th>MakeStartGame</th>\n",
        "      <td>   92</td>\n",
        "      <td>   92</td>\n",
        "    </tr>\n",
        "    <tr>\n",
        "      <th>MakeModeChange</th>\n",
        "      <td>   45</td>\n",
        "      <td>   45</td>\n",
        "    </tr>\n",
        "    <tr>\n",
        "      <th>MakeVisabilityChange</th>\n",
        "      <td>   43</td>\n",
        "      <td>   43</td>\n",
        "    </tr>\n",
        "    <tr>\n",
        "      <th>ADAGEStartSession</th>\n",
        "      <td>   23</td>\n",
        "      <td>   23</td>\n",
        "    </tr>\n",
        "  </tbody>\n",
        "</table>\n",
        "<p>15 rows \u00d7 2 columns</p>\n",
        "</div>"
       ],
       "metadata": {},
       "output_type": "pyout",
       "prompt_number": 21,
       "text": [
        "                         timestamp   key\n",
        "key                                     \n",
        "MakeConnectComponent          2609  2609\n",
        "MakeSnapshot                  2086  2086\n",
        "MakeDisconnectComponent        943   943\n",
        "MakeAddComponent               891   891\n",
        "MakeRemoveComponent            840   840\n",
        "MakeCircuitCreated             229   229\n",
        "MakeResetBoard                 211   211\n",
        "MakeSpawnFish                  161   161\n",
        "MakeCaptureFish                136   136\n",
        "MakeEndGame                    100   100\n",
        "MakeSummonBoard                 96    96\n",
        "MakeStartGame                   92    92\n",
        "MakeModeChange                  45    45\n",
        "MakeVisabilityChange            43    43\n",
        "ADAGEStartSession               23    23\n",
        "\n",
        "[15 rows x 2 columns]"
       ]
      }
     ],
     "prompt_number": 21
    },
    {
     "cell_type": "code",
     "collapsed": false,
     "input": [
      "# We can also see what this looks like as a plot\n",
      "msdata = ms.groupby('key').count().sort(columns=['timestamp', 'key'], ascending=False)\n",
      "p = msdata['timestamp'].plot(kind='bar')\n",
      "print(p)\n",
      "pl.savefig(\"barChart.jpg\", \n",
      "           dpi=300, \n",
      "           figsize=(8, 11),\n",
      "           bbox_inches='tight')\n",
      "\n"
     ],
     "language": "python",
     "metadata": {},
     "outputs": [
      {
       "output_type": "stream",
       "stream": "stdout",
       "text": [
        "Axes(0.125,0.125;0.775x0.775)\n"
       ]
      },
      {
       "metadata": {},
       "output_type": "display_data",
       "png": "[encoded data removed]",
       "text": [
        "<matplotlib.figure.Figure at 0x11204cc50>"
       ]
      }
     ],
     "prompt_number": 22
    },
    {
     "cell_type": "markdown",
     "metadata": {},
     "source": [
      "## How many components are in the component lists of disconnect events\n",
      "\n",
      "From our meeting on 2014-05-30 Allison confirmed that `MakeConnectComponet` always generates a `component_list` of the two blocks being connected.\n",
      "\n",
      "Matthew also said that every time a connection is established between blocks A and B, it generates two `MakeConnectComponent` events:\n",
      "\n",
      "- A connecting to B and\n",
      "- B connecting to A\n",
      "\n",
      "So, I tried investigating whether all `MakeDisconnectComponent` events generate a `component_list` with just two components.\n",
      "\n",
      "But, my first query below failed, because it seems some events have null values for `component_list`:\n",
      "\n",
      "```\n",
      "(ms[ms.key == 'MakeDisconnectComponent']['component_list']).apply(lambda x: len(x))\n",
      "```\n",
      "\n",
      "So, let's try another tactic. First, we'll create a filter that returns null values for component_lists."
     ]
    },
    {
     "cell_type": "code",
     "collapsed": false,
     "input": [
      "nullComponentLists = pd.isnull(ms['component_list'])\n",
      "ms[nullComponentLists][ms.key == 'MakeDisconnectComponent'][['key', 'component_list']]"
     ],
     "language": "python",
     "metadata": {},
     "outputs": [
      {
       "output_type": "stream",
       "stream": "stderr",
       "text": [
        "/Users/briandanielak/Library/Enthought/Canopy_64bit/User/lib/python2.7/site-packages/pandas/core/frame.py:1686: UserWarning: Boolean Series key will be reindexed to match DataFrame index.\n",
        "  \"DataFrame index.\", UserWarning)\n"
       ]
      },
      {
       "html": [
        "<div style=\"max-height:1000px;max-width:1500px;overflow:auto;\">\n",
        "<table border=\"1\" class=\"dataframe\">\n",
        "  <thead>\n",
        "    <tr style=\"text-align: right;\">\n",
        "      <th></th>\n",
        "      <th>key</th>\n",
        "      <th>component_list</th>\n",
        "    </tr>\n",
        "  </thead>\n",
        "  <tbody>\n",
        "    <tr>\n",
        "      <th>980 </th>\n",
        "      <td> MakeDisconnectComponent</td>\n",
        "      <td> None</td>\n",
        "    </tr>\n",
        "    <tr>\n",
        "      <th>1154</th>\n",
        "      <td> MakeDisconnectComponent</td>\n",
        "      <td> None</td>\n",
        "    </tr>\n",
        "    <tr>\n",
        "      <th>1252</th>\n",
        "      <td> MakeDisconnectComponent</td>\n",
        "      <td> None</td>\n",
        "    </tr>\n",
        "    <tr>\n",
        "      <th>1274</th>\n",
        "      <td> MakeDisconnectComponent</td>\n",
        "      <td> None</td>\n",
        "    </tr>\n",
        "    <tr>\n",
        "      <th>2958</th>\n",
        "      <td> MakeDisconnectComponent</td>\n",
        "      <td> None</td>\n",
        "    </tr>\n",
        "    <tr>\n",
        "      <th>3018</th>\n",
        "      <td> MakeDisconnectComponent</td>\n",
        "      <td> None</td>\n",
        "    </tr>\n",
        "    <tr>\n",
        "      <th>3200</th>\n",
        "      <td> MakeDisconnectComponent</td>\n",
        "      <td> None</td>\n",
        "    </tr>\n",
        "    <tr>\n",
        "      <th>3262</th>\n",
        "      <td> MakeDisconnectComponent</td>\n",
        "      <td> None</td>\n",
        "    </tr>\n",
        "    <tr>\n",
        "      <th>3304</th>\n",
        "      <td> MakeDisconnectComponent</td>\n",
        "      <td> None</td>\n",
        "    </tr>\n",
        "    <tr>\n",
        "      <th>4473</th>\n",
        "      <td> MakeDisconnectComponent</td>\n",
        "      <td> None</td>\n",
        "    </tr>\n",
        "    <tr>\n",
        "      <th>7228</th>\n",
        "      <td> MakeDisconnectComponent</td>\n",
        "      <td> None</td>\n",
        "    </tr>\n",
        "  </tbody>\n",
        "</table>\n",
        "<p>11 rows \u00d7 2 columns</p>\n",
        "</div>"
       ],
       "metadata": {},
       "output_type": "pyout",
       "prompt_number": 23,
       "text": [
        "                          key component_list\n",
        "980   MakeDisconnectComponent           None\n",
        "1154  MakeDisconnectComponent           None\n",
        "1252  MakeDisconnectComponent           None\n",
        "1274  MakeDisconnectComponent           None\n",
        "2958  MakeDisconnectComponent           None\n",
        "3018  MakeDisconnectComponent           None\n",
        "3200  MakeDisconnectComponent           None\n",
        "3262  MakeDisconnectComponent           None\n",
        "3304  MakeDisconnectComponent           None\n",
        "4473  MakeDisconnectComponent           None\n",
        "7228  MakeDisconnectComponent           None\n",
        "\n",
        "[11 rows x 2 columns]"
       ]
      }
     ],
     "prompt_number": 23
    },
    {
     "cell_type": "markdown",
     "metadata": {},
     "source": [
      "Event 980 is the first disconnect event where there is no `component_list`, so let's check out what's happening in the neighborhood of that event"
     ]
    },
    {
     "cell_type": "code",
     "collapsed": false,
     "input": [
      "ms[970:986][['key', 'timestamp']]"
     ],
     "language": "python",
     "metadata": {},
     "outputs": [
      {
       "html": [
        "<div style=\"max-height:1000px;max-width:1500px;overflow:auto;\">\n",
        "<table border=\"1\" class=\"dataframe\">\n",
        "  <thead>\n",
        "    <tr style=\"text-align: right;\">\n",
        "      <th></th>\n",
        "      <th>key</th>\n",
        "      <th>timestamp</th>\n",
        "    </tr>\n",
        "  </thead>\n",
        "  <tbody>\n",
        "    <tr>\n",
        "      <th>970</th>\n",
        "      <td>    MakeConnectComponent</td>\n",
        "      <td> 1400003097166</td>\n",
        "    </tr>\n",
        "    <tr>\n",
        "      <th>971</th>\n",
        "      <td> MakeDisconnectComponent</td>\n",
        "      <td> 1400003098417</td>\n",
        "    </tr>\n",
        "    <tr>\n",
        "      <th>972</th>\n",
        "      <td>         MakeCaptureFish</td>\n",
        "      <td> 1400003098417</td>\n",
        "    </tr>\n",
        "    <tr>\n",
        "      <th>973</th>\n",
        "      <td> MakeDisconnectComponent</td>\n",
        "      <td> 1400003098433</td>\n",
        "    </tr>\n",
        "    <tr>\n",
        "      <th>974</th>\n",
        "      <td>    MakeConnectComponent</td>\n",
        "      <td> 1400003098966</td>\n",
        "    </tr>\n",
        "    <tr>\n",
        "      <th>975</th>\n",
        "      <td>      MakeCircuitCreated</td>\n",
        "      <td> 1400003098966</td>\n",
        "    </tr>\n",
        "    <tr>\n",
        "      <th>976</th>\n",
        "      <td>    MakeConnectComponent</td>\n",
        "      <td> 1400003098966</td>\n",
        "    </tr>\n",
        "    <tr>\n",
        "      <th>977</th>\n",
        "      <td>    MakeConnectComponent</td>\n",
        "      <td> 1400003099232</td>\n",
        "    </tr>\n",
        "    <tr>\n",
        "      <th>978</th>\n",
        "      <td>           MakeSpawnFish</td>\n",
        "      <td> 1400003099634</td>\n",
        "    </tr>\n",
        "    <tr>\n",
        "      <th>979</th>\n",
        "      <td>            MakeSnapshot</td>\n",
        "      <td> 1400003100748</td>\n",
        "    </tr>\n",
        "    <tr>\n",
        "      <th>980</th>\n",
        "      <td> MakeDisconnectComponent</td>\n",
        "      <td> 1400003101299</td>\n",
        "    </tr>\n",
        "    <tr>\n",
        "      <th>981</th>\n",
        "      <td>         MakeCaptureFish</td>\n",
        "      <td> 1400003101299</td>\n",
        "    </tr>\n",
        "    <tr>\n",
        "      <th>982</th>\n",
        "      <td> MakeDisconnectComponent</td>\n",
        "      <td> 1400003101299</td>\n",
        "    </tr>\n",
        "    <tr>\n",
        "      <th>983</th>\n",
        "      <td> MakeDisconnectComponent</td>\n",
        "      <td> 1400003101314</td>\n",
        "    </tr>\n",
        "    <tr>\n",
        "      <th>984</th>\n",
        "      <td>            MakeSnapshot</td>\n",
        "      <td> 1400003105748</td>\n",
        "    </tr>\n",
        "    <tr>\n",
        "      <th>985</th>\n",
        "      <td>    MakeConnectComponent</td>\n",
        "      <td> 1400003107948</td>\n",
        "    </tr>\n",
        "  </tbody>\n",
        "</table>\n",
        "<p>16 rows \u00d7 2 columns</p>\n",
        "</div>"
       ],
       "metadata": {},
       "output_type": "pyout",
       "prompt_number": 24,
       "text": [
        "                         key      timestamp\n",
        "970     MakeConnectComponent  1400003097166\n",
        "971  MakeDisconnectComponent  1400003098417\n",
        "972          MakeCaptureFish  1400003098417\n",
        "973  MakeDisconnectComponent  1400003098433\n",
        "974     MakeConnectComponent  1400003098966\n",
        "975       MakeCircuitCreated  1400003098966\n",
        "976     MakeConnectComponent  1400003098966\n",
        "977     MakeConnectComponent  1400003099232\n",
        "978            MakeSpawnFish  1400003099634\n",
        "979             MakeSnapshot  1400003100748\n",
        "980  MakeDisconnectComponent  1400003101299\n",
        "981          MakeCaptureFish  1400003101299\n",
        "982  MakeDisconnectComponent  1400003101299\n",
        "983  MakeDisconnectComponent  1400003101314\n",
        "984             MakeSnapshot  1400003105748\n",
        "985     MakeConnectComponent  1400003107948\n",
        "\n",
        "[16 rows x 2 columns]"
       ]
      }
     ],
     "prompt_number": 24
    },
    {
     "cell_type": "markdown",
     "metadata": {},
     "source": [
      "So, it looks like events 980, 981, and 982 all share the exact same timestamp (down to the millisecond), with one final disconnection event happening only about 15ms later."
     ]
    },
    {
     "cell_type": "code",
     "collapsed": false,
     "input": [
      "ms[980:984][['key', 'timestamp', 'delta1']]"
     ],
     "language": "python",
     "metadata": {},
     "outputs": [
      {
       "html": [
        "<div style=\"max-height:1000px;max-width:1500px;overflow:auto;\">\n",
        "<table border=\"1\" class=\"dataframe\">\n",
        "  <thead>\n",
        "    <tr style=\"text-align: right;\">\n",
        "      <th></th>\n",
        "      <th>key</th>\n",
        "      <th>timestamp</th>\n",
        "      <th>delta1</th>\n",
        "    </tr>\n",
        "  </thead>\n",
        "  <tbody>\n",
        "    <tr>\n",
        "      <th>980</th>\n",
        "      <td> MakeDisconnectComponent</td>\n",
        "      <td> 1400003101299</td>\n",
        "      <td> 551</td>\n",
        "    </tr>\n",
        "    <tr>\n",
        "      <th>981</th>\n",
        "      <td>         MakeCaptureFish</td>\n",
        "      <td> 1400003101299</td>\n",
        "      <td>   0</td>\n",
        "    </tr>\n",
        "    <tr>\n",
        "      <th>982</th>\n",
        "      <td> MakeDisconnectComponent</td>\n",
        "      <td> 1400003101299</td>\n",
        "      <td>   0</td>\n",
        "    </tr>\n",
        "    <tr>\n",
        "      <th>983</th>\n",
        "      <td> MakeDisconnectComponent</td>\n",
        "      <td> 1400003101314</td>\n",
        "      <td>  15</td>\n",
        "    </tr>\n",
        "  </tbody>\n",
        "</table>\n",
        "<p>4 rows \u00d7 3 columns</p>\n",
        "</div>"
       ],
       "metadata": {},
       "output_type": "pyout",
       "prompt_number": 25,
       "text": [
        "                         key      timestamp  delta1\n",
        "980  MakeDisconnectComponent  1400003101299     551\n",
        "981          MakeCaptureFish  1400003101299       0\n",
        "982  MakeDisconnectComponent  1400003101299       0\n",
        "983  MakeDisconnectComponent  1400003101314      15\n",
        "\n",
        "[4 rows x 3 columns]"
       ]
      }
     ],
     "prompt_number": 25
    },
    {
     "cell_type": "markdown",
     "metadata": {},
     "source": [
      "We can try to interrogate what's happening by looking at the component lists. First, let's look inside the circuit that was created at event 975. I'm calling `list()` on it because I kind of don't understand how else to get pandas to get me the output format I need to inspect :-)"
     ]
    },
    {
     "cell_type": "code",
     "collapsed": false,
     "input": [
      "list(ms[975:978].component_list)"
     ],
     "language": "python",
     "metadata": {},
     "outputs": [
      {
       "metadata": {},
       "output_type": "pyout",
       "prompt_number": 26,
       "text": [
        "[[{u'current_flowing': True,\n",
        "   u'marker_id': 2,\n",
        "   u'negative_terminal': 19,\n",
        "   u'positive_terminal': 27,\n",
        "   u'theta': 30.2151107788086,\n",
        "   u'type': u'BATTERY',\n",
        "   u'x': 376.921844482422,\n",
        "   u'y': 292.583557128906},\n",
        "  {u'current_flowing': True,\n",
        "   u'marker_id': 27,\n",
        "   u'negative_terminal': 2,\n",
        "   u'positive_terminal': 19,\n",
        "   u'theta': 14.361967086792,\n",
        "   u'type': u'LED',\n",
        "   u'x': 505.863616943359,\n",
        "   u'y': 337.244506835938},\n",
        "  {u'current_flowing': True,\n",
        "   u'marker_id': 19,\n",
        "   u'negative_terminal': 27,\n",
        "   u'positive_terminal': 2,\n",
        "   u'theta': 262.492034912109,\n",
        "   u'type': u'RESISTOR',\n",
        "   u'x': 712.927917480469,\n",
        "   u'y': 163.924194335938}],\n",
        " [{u'current_flowing': True,\n",
        "   u'marker_id': 2,\n",
        "   u'negative_terminal': 19,\n",
        "   u'positive_terminal': 27,\n",
        "   u'theta': 30.2151107788086,\n",
        "   u'type': u'BATTERY',\n",
        "   u'x': 376.921844482422,\n",
        "   u'y': 292.583557128906},\n",
        "  {u'current_flowing': True,\n",
        "   u'marker_id': 27,\n",
        "   u'negative_terminal': 2,\n",
        "   u'positive_terminal': 19,\n",
        "   u'theta': 14.361967086792,\n",
        "   u'type': u'LED',\n",
        "   u'x': 505.863616943359,\n",
        "   u'y': 337.244506835938}],\n",
        " [{u'current_flowing': True,\n",
        "   u'marker_id': 27,\n",
        "   u'negative_terminal': 2,\n",
        "   u'positive_terminal': 19,\n",
        "   u'theta': 14.1408853530884,\n",
        "   u'type': u'LED',\n",
        "   u'x': 509.764862060547,\n",
        "   u'y': 342.452362060547},\n",
        "  {u'current_flowing': True,\n",
        "   u'marker_id': 2,\n",
        "   u'negative_terminal': 19,\n",
        "   u'positive_terminal': 27,\n",
        "   u'theta': 16.4315128326416,\n",
        "   u'type': u'BATTERY',\n",
        "   u'x': 409.187103271484,\n",
        "   u'y': 336.581115722656}]]"
       ]
      }
     ],
     "prompt_number": 26
    },
    {
     "cell_type": "markdown",
     "metadata": {},
     "source": [
      "So, the circuit is a 3-block circuit. It has:\n",
      "\n",
      "- A battery (block id 2)\n",
      "- A resistor (block id 19)\n",
      "- An LED (block id 27)\n",
      "\n",
      "After a fish hits that circuit, it fries all the virtual wires (because the fish are biolectric), so we should expect to see 3 disconnect events:\n",
      "\n",
      "- Disconnecting the battery and resistor (2-19)\n",
      "- Disconnecting the battery and the LED (2-27)\n",
      "- Disconnecting the battery and the LED (19-27)"
     ]
    },
    {
     "cell_type": "code",
     "collapsed": false,
     "input": [
      "list(ms[980:984].component_list)"
     ],
     "language": "python",
     "metadata": {},
     "outputs": [
      {
       "metadata": {},
       "output_type": "pyout",
       "prompt_number": 27,
       "text": [
        "[None,\n",
        " [{u'current_flowing': True,\n",
        "   u'marker_id': 28,\n",
        "   u'negative_terminal': 31,\n",
        "   u'positive_terminal': 6,\n",
        "   u'theta': 222.557052612305,\n",
        "   u'type': u'LED',\n",
        "   u'x': 284.760711669922,\n",
        "   u'y': -138.952453613281}],\n",
        " [{u'current_flowing': True,\n",
        "   u'marker_id': 6,\n",
        "   u'negative_terminal': -1,\n",
        "   u'positive_terminal': 31,\n",
        "   u'theta': 277.101806640625,\n",
        "   u'type': u'BATTERY',\n",
        "   u'x': 271.590301513672,\n",
        "   u'y': -393.121185302734}],\n",
        " [{u'current_flowing': True,\n",
        "   u'marker_id': 6,\n",
        "   u'negative_terminal': -1,\n",
        "   u'positive_terminal': 31,\n",
        "   u'theta': 277.101806640625,\n",
        "   u'type': u'BATTERY',\n",
        "   u'x': 271.590301513672,\n",
        "   u'y': -393.123443603516}]]"
       ]
      }
     ],
     "prompt_number": 27
    },
    {
     "cell_type": "code",
     "collapsed": false,
     "input": [
      "ms[980:984].timestamp"
     ],
     "language": "python",
     "metadata": {},
     "outputs": [
      {
       "metadata": {},
       "output_type": "pyout",
       "prompt_number": 28,
       "text": [
        "980    1400003101299\n",
        "981    1400003101299\n",
        "982    1400003101299\n",
        "983    1400003101314\n",
        "Name: timestamp, dtype: int64"
       ]
      }
     ],
     "prompt_number": 28
    },
    {
     "cell_type": "code",
     "collapsed": false,
     "input": [],
     "language": "python",
     "metadata": {},
     "outputs": [],
     "prompt_number": 28
    }
   ],
   "metadata": {}
  }
 ]
}